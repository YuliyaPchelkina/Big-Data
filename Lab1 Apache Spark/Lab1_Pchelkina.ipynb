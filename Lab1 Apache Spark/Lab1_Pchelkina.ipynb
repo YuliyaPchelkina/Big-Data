{
 "cells": [
  {
   "cell_type": "markdown",
   "id": "a80dd20f-94a0-470c-9afa-b2db2935d285",
   "metadata": {},
   "source": [
    "Пчелкина Юлия. группа 6131.\n",
    "Лабораторная № 1"
   ]
  },
  {
   "cell_type": "markdown",
   "id": "7d76ae14-ba29-4c5a-8252-e060028f6ce2",
   "metadata": {},
   "source": [
    "#### ЗАДАНИЕ\n",
    "##### Решите следующие задачи для данных велопарковок Сан-Франциско (trips.csv, stations.csv):\n",
    "1. Найти велосипед с максимальным временем пробега.\n",
    "2. Найти наибольшее геодезическое расстояние между станциями.\n",
    "3. Найти путь велосипеда с максимальным временем пробега через станции.\n",
    "4. Найти количество велосипедов в системе.\n",
    "5. Найти пользователей потративших на поездки более 3 часов."
   ]
  },
  {
   "cell_type": "code",
   "execution_count": 1,
   "id": "9e0eb93f-50bd-4ef3-b2bd-f5ac7164bb1c",
   "metadata": {},
   "outputs": [],
   "source": [
    "#pip install pyspark\n",
    "# pip install numpy\n",
    "#! pip install pandas"
   ]
  },
  {
   "cell_type": "code",
   "execution_count": 5,
   "id": "32f388d7-8d37-4a82-b654-173ac6c8d5a7",
   "metadata": {},
   "outputs": [],
   "source": [
    "from pyspark import SparkContext, SparkConf\n",
    "\n",
    "from typing import NamedTuple\n",
    "from datetime import datetime\n",
    "\n",
    "import pandas as pd\n",
    "import os\n",
    "import numpy as np\n",
    "\n"
   ]
  },
  {
   "cell_type": "code",
   "execution_count": 3,
   "id": "598c4b6e-15ca-443f-8afd-15df480f9a08",
   "metadata": {},
   "outputs": [],
   "source": [
    "# настраиваем конфигурацию\n",
    "conf = SparkConf().setAppName(\"L1_interactive_bike_analysis\").setMaster('yarn')"
   ]
  },
  {
   "cell_type": "code",
   "execution_count": 4,
   "id": "6bedb60a-f5e0-4a0a-91e9-f3f3f8fc26eb",
   "metadata": {},
   "outputs": [],
   "source": [
    "sc = SparkContext(conf=conf)"
   ]
  },
  {
   "cell_type": "code",
   "execution_count": 6,
   "id": "cdefa7d2-6f4b-4c1a-bdad-10c1e80639d3",
   "metadata": {},
   "outputs": [
    {
     "data": {
      "text/html": [
       "\n",
       "        <div>\n",
       "            <p><b>SparkContext</b></p>\n",
       "\n",
       "            <p><a href=\"http://n1.maapr.xyz:4043\">Spark UI</a></p>\n",
       "\n",
       "            <dl>\n",
       "              <dt>Version</dt>\n",
       "                <dd><code>v3.1.2.0-eep-800</code></dd>\n",
       "              <dt>Master</dt>\n",
       "                <dd><code>yarn</code></dd>\n",
       "              <dt>AppName</dt>\n",
       "                <dd><code>L1_interactive_bike_analysis</code></dd>\n",
       "            </dl>\n",
       "        </div>\n",
       "        "
      ],
      "text/plain": [
       "<SparkContext master=yarn appName=L1_interactive_bike_analysis>"
      ]
     },
     "execution_count": 6,
     "metadata": {},
     "output_type": "execute_result"
    }
   ],
   "source": [
    "sc"
   ]
  },
  {
   "cell_type": "code",
   "execution_count": 7,
   "id": "f4a3e2f3-0168-49e6-896e-9277b6cfc9ce",
   "metadata": {},
   "outputs": [
    {
     "data": {
      "text/plain": [
       "'/opt/mapr/spark/spark-3.1.2//python/lib/pyspark.zip:/opt/mapr/spark/spark-3.1.2//python/lib/py4j-0.10.9-src.zip:/tmp/hadoop-mapr/nm-local-dir/usercache/julia_pchelkina/filecache/19/__spark_libs__2835295945260599284.zip/spark-core_2.12-3.1.2.0-eep-800.jar:/home/julia_pchelkina/.local/lib/python3.9/site-packages:/tmp/hadoop-mapr/nm-local-dir/usercache/julia_pchelkina/appcache/application_1637674522791_0062/container_e08_1637674522791_0062_01_000002/pyspark.zip:/tmp/hadoop-mapr/nm-local-dir/usercache/julia_pchelkina/appcache/application_1637674522791_0062/container_e08_1637674522791_0062_01_000002/py4j-0.10.9-src.zip'"
      ]
     },
     "execution_count": 7,
     "metadata": {},
     "output_type": "execute_result"
    }
   ],
   "source": [
    "sc.parallelize([1,2,3,4,5,6]).map(lambda x: dict(os.environ)['PYTHONPATH']).first()"
   ]
  },
  {
   "cell_type": "code",
   "execution_count": 8,
   "id": "d9239efa-9ff8-468e-bf55-40577fb10e6f",
   "metadata": {},
   "outputs": [
    {
     "data": {
      "text/plain": [
       "('n3.maapr.xyz', [12, 3])"
      ]
     },
     "execution_count": 8,
     "metadata": {},
     "output_type": "execute_result"
    }
   ],
   "source": [
    "sc.parallelize([1,2,3,4,5,6]).map(lambda x: (os.environ['NM_HOST'], [12, 3])).first()"
   ]
  },
  {
   "cell_type": "code",
   "execution_count": 9,
   "id": "eaa5ef86-772d-4a18-a864-578323ec5ee0",
   "metadata": {},
   "outputs": [
    {
     "name": "stdout",
     "output_type": "stream",
     "text": [
      "/opt/miniconda3/bin//python\n"
     ]
    }
   ],
   "source": [
    "!which python"
   ]
  },
  {
   "cell_type": "markdown",
   "id": "09679562-14b2-4234-92f7-eea825555443",
   "metadata": {},
   "source": [
    "#### 0. Загрузка и предобработка данных"
   ]
  },
  {
   "cell_type": "code",
   "execution_count": 10,
   "id": "f46c6d92-69a7-4199-b762-29a419cfb313",
   "metadata": {},
   "outputs": [],
   "source": [
    "tripData = sc.textFile(\"trips.csv\")\n",
    "stationData = sc.textFile(\"stations.csv\")"
   ]
  },
  {
   "cell_type": "code",
   "execution_count": 40,
   "id": "9e9d1670-899b-4308-972e-bb09fbb2ea8e",
   "metadata": {},
   "outputs": [],
   "source": [
    "# определяем первую строку в данных\n",
    "tripsHeader = tripData.first()\n",
    "stationsHeader = stationData.first()\n",
    "\n",
    "# фильтруем данные на основе заданного условия (убираем первую строку, т.е. заголовки)\n",
    "trips = tripData.filter(lambda row: row != tripsHeader)\n",
    "stations = stationData.filter(lambda row: row != stationsHeader)\n",
    "\n",
    "# разбиваем строки на \"слова\". в качестве разделителя \",\"\n",
    "trips_data = trips.map(lambda x: x.split(','))\n",
    "stations_data = stations.map(lambda x: x.split(','))\n",
    "\n",
    "# значения первой строки - заголовки\n",
    "trip_list = list(enumerate(tripsHeader.split(\",\")))\n",
    "station_list = list(enumerate(stationsHeader.split(\",\")))\n"
   ]
  },
  {
   "cell_type": "code",
   "execution_count": 42,
   "id": "6b7488c7-737d-4019-ab1a-e19d4b1be4d2",
   "metadata": {},
   "outputs": [
    {
     "data": {
      "text/plain": [
       "['4576,63,8/29/2013 14:13,South Van Ness at Market,66,8/29/2013 14:14,South Van Ness at Market,66,520,Subscriber,94127',\n",
       " '4607,70,8/29/2013 14:42,San Jose City Hall,10,8/29/2013 14:43,San Jose City Hall,10,661,Subscriber,95138',\n",
       " '4130,71,8/29/2013 10:16,Mountain View City Hall,27,8/29/2013 10:17,Mountain View City Hall,27,48,Subscriber,97214',\n",
       " '4251,77,8/29/2013 11:29,San Jose City Hall,10,8/29/2013 11:30,San Jose City Hall,10,26,Subscriber,95060',\n",
       " '4299,83,8/29/2013 12:02,South Van Ness at Market,66,8/29/2013 12:04,Market at 10th,67,319,Subscriber,94103']"
      ]
     },
     "execution_count": 42,
     "metadata": {},
     "output_type": "execute_result"
    }
   ],
   "source": [
    "# выводим первые 5 строк данных без заголовка\n",
    "trips.take(5)"
   ]
  },
  {
   "cell_type": "code",
   "execution_count": 43,
   "id": "5e669f39-056b-4a16-8ed0-bde9dcca2cca",
   "metadata": {},
   "outputs": [
    {
     "data": {
      "text/plain": [
       "['2,San Jose Diridon Caltrain Station,37.329732,-121.90178200000001,27,San Jose,8/6/2013',\n",
       " '3,San Jose Civic Center,37.330698,-121.888979,15,San Jose,8/5/2013',\n",
       " '4,Santa Clara at Almaden,37.333988,-121.894902,11,San Jose,8/6/2013',\n",
       " '5,Adobe on Almaden,37.331415,-121.8932,19,San Jose,8/5/2013',\n",
       " '6,San Pedro Square,37.336721000000004,-121.894074,15,San Jose,8/7/2013']"
      ]
     },
     "execution_count": 43,
     "metadata": {},
     "output_type": "execute_result"
    }
   ],
   "source": [
    "stations.take(5)"
   ]
  },
  {
   "cell_type": "code",
   "execution_count": 44,
   "id": "eac8aa5b-0c07-4c65-823b-9dd9c4ae8881",
   "metadata": {},
   "outputs": [
    {
     "data": {
      "text/plain": [
       "[['4576',\n",
       "  '63',\n",
       "  '8/29/2013 14:13',\n",
       "  'South Van Ness at Market',\n",
       "  '66',\n",
       "  '8/29/2013 14:14',\n",
       "  'South Van Ness at Market',\n",
       "  '66',\n",
       "  '520',\n",
       "  'Subscriber',\n",
       "  '94127'],\n",
       " ['4607',\n",
       "  '70',\n",
       "  '8/29/2013 14:42',\n",
       "  'San Jose City Hall',\n",
       "  '10',\n",
       "  '8/29/2013 14:43',\n",
       "  'San Jose City Hall',\n",
       "  '10',\n",
       "  '661',\n",
       "  'Subscriber',\n",
       "  '95138']]"
      ]
     },
     "execution_count": 44,
     "metadata": {},
     "output_type": "execute_result"
    }
   ],
   "source": [
    "# выводим первые 2 строки данных, разбитых на \"слова\"\n",
    "trips_data.take(2)  "
   ]
  },
  {
   "cell_type": "code",
   "execution_count": 45,
   "id": "e2a4d7d0-d4e9-42cc-9d80-bf24d18a5f73",
   "metadata": {},
   "outputs": [
    {
     "data": {
      "text/plain": [
       "[['2',\n",
       "  'San Jose Diridon Caltrain Station',\n",
       "  '37.329732',\n",
       "  '-121.90178200000001',\n",
       "  '27',\n",
       "  'San Jose',\n",
       "  '8/6/2013'],\n",
       " ['3',\n",
       "  'San Jose Civic Center',\n",
       "  '37.330698',\n",
       "  '-121.888979',\n",
       "  '15',\n",
       "  'San Jose',\n",
       "  '8/5/2013']]"
      ]
     },
     "execution_count": 45,
     "metadata": {},
     "output_type": "execute_result"
    }
   ],
   "source": [
    "stations_data.take(2) "
   ]
  },
  {
   "cell_type": "code",
   "execution_count": 46,
   "id": "9577e6d0-3ec7-48e7-ba4d-a22248370757",
   "metadata": {},
   "outputs": [
    {
     "data": {
      "text/plain": [
       "[(0, 'id'),\n",
       " (1, 'duration'),\n",
       " (2, 'start_date'),\n",
       " (3, 'start_station_name'),\n",
       " (4, 'start_station_id'),\n",
       " (5, 'end_date'),\n",
       " (6, 'end_station_name'),\n",
       " (7, 'end_station_id'),\n",
       " (8, 'bike_id'),\n",
       " (9, 'subscription_type'),\n",
       " (10, 'zip_code')]"
      ]
     },
     "execution_count": 46,
     "metadata": {},
     "output_type": "execute_result"
    }
   ],
   "source": [
    "# выводим значения первой строки - заголовки\n",
    "trip_list"
   ]
  },
  {
   "cell_type": "code",
   "execution_count": 47,
   "id": "a2a4e146-8cd5-4ed8-aeb1-fa3f086731fd",
   "metadata": {},
   "outputs": [
    {
     "data": {
      "text/plain": [
       "[(0, 'id'),\n",
       " (1, 'name'),\n",
       " (2, 'lat'),\n",
       " (3, 'long'),\n",
       " (4, 'dock_count'),\n",
       " (5, 'city'),\n",
       " (6, 'installation_date')]"
      ]
     },
     "execution_count": 47,
     "metadata": {},
     "output_type": "execute_result"
    }
   ],
   "source": [
    "station_list"
   ]
  },
  {
   "cell_type": "code",
   "execution_count": 48,
   "id": "5c38dc4c-9220-4b29-a146-678f99a4147c",
   "metadata": {},
   "outputs": [],
   "source": [
    "# создаем модель данных для Trips\n",
    "def initTrip(trips):\n",
    "    class Trip(NamedTuple):\n",
    "        trip_id: int\n",
    "        duration: int\n",
    "        start_date: datetime\n",
    "        start_station_name: str\n",
    "        start_station_id: int\n",
    "        end_date: datetime\n",
    "        end_station_name: str\n",
    "        end_station_id: int\n",
    "        bike_id: int\n",
    "        subscription_type: str\n",
    "        zip_code: str\n",
    "        \n",
    "    for trip in trips:\n",
    "        try:\n",
    "            yield Trip(                             \n",
    "             trip_id = int(trip[0]),\n",
    "             duration = int(trip[1]),\n",
    "             start_date = datetime.strptime(trip[2], '%m/%d/%Y %H:%M'),\n",
    "             start_station_name = trip[3],\n",
    "             start_station_id = int(trip[4]),\n",
    "             end_date = datetime.strptime(trip[5], '%m/%d/%Y %H:%M'),\n",
    "             end_station_name = trip[6],\n",
    "             end_station_id = trip[7],\n",
    "             bike_id = int(trip[8]),\n",
    "             subscription_type = trip[9],\n",
    "             zip_code = trip[10]\n",
    "            ) \n",
    "        except:\n",
    "            pass"
   ]
  },
  {
   "cell_type": "code",
   "execution_count": 49,
   "id": "24815b59-9976-4153-ab90-858b3f372ae4",
   "metadata": {},
   "outputs": [],
   "source": [
    "# создаем модель данных для Stations\n",
    "def initStation(stations):\n",
    "    class Station(NamedTuple):\n",
    "        station_id: int\n",
    "        name: str\n",
    "        lat: float\n",
    "        long: float\n",
    "        dockcount: int\n",
    "        landmark: str\n",
    "        installation: str\n",
    "    \n",
    "    for station in stations:\n",
    "        yield Station(\n",
    "            station_id = int(station[0]),\n",
    "            name = station[1],\n",
    "            lat = float(station[2]),\n",
    "            long = float(station[3]),\n",
    "            dockcount = int(station[4]),\n",
    "            landmark = station[5],\n",
    "            installation = datetime.strptime(station[6], '%m/%d/%Y')\n",
    "        )"
   ]
  },
  {
   "cell_type": "code",
   "execution_count": 50,
   "id": "0eaa8b0b-0927-4cef-abe1-2e3d01a1db2c",
   "metadata": {},
   "outputs": [],
   "source": [
    "# применяем модель к нашим данным\n",
    "tripsInternal = trips_data.mapPartitions(initTrip)\n",
    "stationsInternal = stations_data.mapPartitions(initStation)"
   ]
  },
  {
   "cell_type": "code",
   "execution_count": 51,
   "id": "59f511b2-cf16-4949-862b-68689f318189",
   "metadata": {},
   "outputs": [
    {
     "data": {
      "text/plain": [
       "[Trip(trip_id=4576, duration=63, start_date=datetime.datetime(2013, 8, 29, 14, 13), start_station_name='South Van Ness at Market', start_station_id=66, end_date=datetime.datetime(2013, 8, 29, 14, 14), end_station_name='South Van Ness at Market', end_station_id='66', bike_id=520, subscription_type='Subscriber', zip_code='94127'),\n",
       " Trip(trip_id=4607, duration=70, start_date=datetime.datetime(2013, 8, 29, 14, 42), start_station_name='San Jose City Hall', start_station_id=10, end_date=datetime.datetime(2013, 8, 29, 14, 43), end_station_name='San Jose City Hall', end_station_id='10', bike_id=661, subscription_type='Subscriber', zip_code='95138')]"
      ]
     },
     "execution_count": 51,
     "metadata": {},
     "output_type": "execute_result"
    }
   ],
   "source": [
    "# выводим первые n строк\n",
    "tripsInternal.take(2)"
   ]
  },
  {
   "cell_type": "code",
   "execution_count": 52,
   "id": "3fdbfc5e-d1c2-4833-b885-6cd844d0cefd",
   "metadata": {},
   "outputs": [
    {
     "data": {
      "text/plain": [
       "[Station(station_id=2, name='San Jose Diridon Caltrain Station', lat=37.329732, long=-121.90178200000001, dockcount=27, landmark='San Jose', installation=datetime.datetime(2013, 8, 6, 0, 0)),\n",
       " Station(station_id=3, name='San Jose Civic Center', lat=37.330698, long=-121.888979, dockcount=15, landmark='San Jose', installation=datetime.datetime(2013, 8, 5, 0, 0))]"
      ]
     },
     "execution_count": 52,
     "metadata": {},
     "output_type": "execute_result"
    }
   ],
   "source": [
    "stationsInternal.take(2)"
   ]
  },
  {
   "cell_type": "code",
   "execution_count": 53,
   "id": "4899a6ad-52a6-431d-bd93-c228fb5a0d69",
   "metadata": {},
   "outputs": [
    {
     "data": {
      "text/plain": [
       "Trip(trip_id=4576, duration=63, start_date=datetime.datetime(2013, 8, 29, 14, 13), start_station_name='South Van Ness at Market', start_station_id=66, end_date=datetime.datetime(2013, 8, 29, 14, 14), end_station_name='South Van Ness at Market', end_station_id='66', bike_id=520, subscription_type='Subscriber', zip_code='94127')"
      ]
     },
     "execution_count": 53,
     "metadata": {},
     "output_type": "execute_result"
    }
   ],
   "source": [
    "tripsInternal.first()"
   ]
  },
  {
   "cell_type": "code",
   "execution_count": 54,
   "id": "eccc1b7c-cfb2-4887-9d21-7371ec3f69a6",
   "metadata": {},
   "outputs": [
    {
     "data": {
      "text/plain": [
       "Station(station_id=2, name='San Jose Diridon Caltrain Station', lat=37.329732, long=-121.90178200000001, dockcount=27, landmark='San Jose', installation=datetime.datetime(2013, 8, 6, 0, 0))"
      ]
     },
     "execution_count": 54,
     "metadata": {},
     "output_type": "execute_result"
    }
   ],
   "source": [
    "stationsInternal.first()"
   ]
  },
  {
   "cell_type": "markdown",
   "id": "8f3c8137-85c7-4ba4-be3a-171a8f034896",
   "metadata": {},
   "source": [
    "#### 1. Найти велосипед с максимальным временем пробега"
   ]
  },
  {
   "cell_type": "markdown",
   "id": "31e21498-7b0a-4055-b89a-e7090a61b3d3",
   "metadata": {},
   "source": [
    "нас интересует позиция \"duration\" - продолжительность"
   ]
  },
  {
   "cell_type": "code",
   "execution_count": 55,
   "id": "14e3b988-ac71-4170-8f1f-02cf52ee8fa7",
   "metadata": {},
   "outputs": [
    {
     "data": {
      "text/plain": [
       "[('4576',\n",
       "  ['4576',\n",
       "   '63',\n",
       "   '8/29/2013 14:13',\n",
       "   'South Van Ness at Market',\n",
       "   '66',\n",
       "   '8/29/2013 14:14',\n",
       "   'South Van Ness at Market',\n",
       "   '66',\n",
       "   '520',\n",
       "   'Subscriber',\n",
       "   '94127']),\n",
       " ('4607',\n",
       "  ['4607',\n",
       "   '70',\n",
       "   '8/29/2013 14:42',\n",
       "   'San Jose City Hall',\n",
       "   '10',\n",
       "   '8/29/2013 14:43',\n",
       "   'San Jose City Hall',\n",
       "   '10',\n",
       "   '661',\n",
       "   'Subscriber',\n",
       "   '95138'])]"
      ]
     },
     "execution_count": 55,
     "metadata": {},
     "output_type": "execute_result"
    }
   ],
   "source": [
    "# список пар ключ (номер id) - значение (данные в строке с этим id)\n",
    "tripsIndexed = trips_data.keyBy(lambda trip: trip[0])\n",
    "tripsIndexed.take(2)"
   ]
  },
  {
   "cell_type": "code",
   "execution_count": 57,
   "id": "84339f77-4d22-46e4-a731-891a5ca7fbcf",
   "metadata": {},
   "outputs": [
    {
     "data": {
      "text/plain": [
       "(520,\n",
       " Trip(trip_id=4576, duration=63, start_date=datetime.datetime(2013, 8, 29, 14, 13), start_station_name='South Van Ness at Market', start_station_id=66, end_date=datetime.datetime(2013, 8, 29, 14, 14), end_station_name='South Van Ness at Market', end_station_id='66', bike_id=520, subscription_type='Subscriber', zip_code='94127'))"
      ]
     },
     "execution_count": 57,
     "metadata": {},
     "output_type": "execute_result"
    }
   ],
   "source": [
    "# по id велосипеда\n",
    "trip_num = tripsInternal.keyBy(lambda x: x.bike_id)\n",
    "trip_num.first()"
   ]
  },
  {
   "cell_type": "code",
   "execution_count": 58,
   "id": "4f316414-3f68-4630-a678-ba2ce8939266",
   "metadata": {},
   "outputs": [],
   "source": [
    "# функция группирует данные по выбранному столбцу и выполняет различные операции\n",
    "group_trip_num = trip_num\\\n",
    "                 .mapValues(lambda x: x.duration/60/60)\\\n",
    "                 .reduceByKey(lambda d1, d2: d1 + d2)\n",
    "#group_trip_num.first()"
   ]
  },
  {
   "cell_type": "code",
   "execution_count": 60,
   "id": "74da25d1-560c-444d-ae24-bb72e8c2e169",
   "metadata": {},
   "outputs": [
    {
     "name": "stdout",
     "output_type": "stream",
     "text": [
      "CPU times: user 10.5 ms, sys: 1.36 ms, total: 11.9 ms\n",
      "Wall time: 209 ms\n"
     ]
    }
   ],
   "source": [
    "%%time\n",
    "\n",
    "# находим наибольшее расстояние, замеряем время обработки\n",
    "max_duration = group_trip_num.reduce(lambda d1, d2: d1 if d1[1] > d2[1] else d2)\n"
   ]
  },
  {
   "cell_type": "code",
   "execution_count": 29,
   "id": "6067d2ab-2a9d-4be5-93d7-060a82d1123d",
   "metadata": {},
   "outputs": [],
   "source": [
    "# max_duration"
   ]
  },
  {
   "cell_type": "code",
   "execution_count": 61,
   "id": "34a9abf8-2949-4cfe-ad1a-00e9a60fee8f",
   "metadata": {},
   "outputs": [
    {
     "name": "stdout",
     "output_type": "stream",
     "text": [
      "Maximum duration has bike with id =  535\n"
     ]
    }
   ],
   "source": [
    "max_time = int(max_duration[1]*60*60)\n",
    "\n",
    "print('Maximum duration has bike with id = ', max_duration[0])\n"
   ]
  },
  {
   "cell_type": "code",
   "execution_count": null,
   "id": "85e7b6ee-8c0b-484a-bf2a-cf0c03eca193",
   "metadata": {},
   "outputs": [],
   "source": []
  },
  {
   "cell_type": "code",
   "execution_count": 62,
   "id": "39c523e6-7f59-4017-ad37-595c40637c23",
   "metadata": {},
   "outputs": [
    {
     "name": "stdout",
     "output_type": "stream",
     "text": [
      "maximum duration: 17270400 2137000\n"
     ]
    }
   ],
   "source": [
    "# Просто для проверки тоже самое в Pandas\n",
    "df = pd.read_csv('trips.csv')\n",
    "m1 = str(df['duration'].max())\n",
    "# На всякий случай найдем еще одно наибольшее\n",
    "df_new = df.loc[df['duration'] != int(m1)]\n",
    "m2 = df_new['duration'].max()\n",
    "\n",
    "print('maximum duration:', m1, m2)"
   ]
  },
  {
   "cell_type": "code",
   "execution_count": 63,
   "id": "432aa847-3040-40dd-a4c9-f98b3a008575",
   "metadata": {},
   "outputs": [
    {
     "data": {
      "text/html": [
       "<div>\n",
       "<style scoped>\n",
       "    .dataframe tbody tr th:only-of-type {\n",
       "        vertical-align: middle;\n",
       "    }\n",
       "\n",
       "    .dataframe tbody tr th {\n",
       "        vertical-align: top;\n",
       "    }\n",
       "\n",
       "    .dataframe thead th {\n",
       "        text-align: right;\n",
       "    }\n",
       "</style>\n",
       "<table border=\"1\" class=\"dataframe\">\n",
       "  <thead>\n",
       "    <tr style=\"text-align: right;\">\n",
       "      <th></th>\n",
       "      <th>id</th>\n",
       "      <th>duration</th>\n",
       "      <th>start_date</th>\n",
       "      <th>start_station_name</th>\n",
       "      <th>start_station_id</th>\n",
       "      <th>end_date</th>\n",
       "      <th>end_station_name</th>\n",
       "      <th>end_station_id</th>\n",
       "      <th>bike_id</th>\n",
       "      <th>subscription_type</th>\n",
       "      <th>zip_code</th>\n",
       "    </tr>\n",
       "  </thead>\n",
       "  <tbody>\n",
       "    <tr>\n",
       "      <th>382718</th>\n",
       "      <td>825850</td>\n",
       "      <td>2137000</td>\n",
       "      <td>6/28/2015 21:50</td>\n",
       "      <td>Market at Sansome</td>\n",
       "      <td>77</td>\n",
       "      <td>7/23/2015 15:27</td>\n",
       "      <td>Yerba Buena Center of the Arts (3rd @ Howard)</td>\n",
       "      <td>68</td>\n",
       "      <td>466</td>\n",
       "      <td>Customer</td>\n",
       "      <td>97213</td>\n",
       "    </tr>\n",
       "    <tr>\n",
       "      <th>573566</th>\n",
       "      <td>568474</td>\n",
       "      <td>17270400</td>\n",
       "      <td>12/6/2014 21:59</td>\n",
       "      <td>South Van Ness at Market</td>\n",
       "      <td>66</td>\n",
       "      <td>6/24/2015 20:18</td>\n",
       "      <td>2nd at Folsom</td>\n",
       "      <td>62</td>\n",
       "      <td>535</td>\n",
       "      <td>Customer</td>\n",
       "      <td>95531</td>\n",
       "    </tr>\n",
       "  </tbody>\n",
       "</table>\n",
       "</div>"
      ],
      "text/plain": [
       "            id  duration       start_date        start_station_name  \\\n",
       "382718  825850   2137000  6/28/2015 21:50         Market at Sansome   \n",
       "573566  568474  17270400  12/6/2014 21:59  South Van Ness at Market   \n",
       "\n",
       "        start_station_id         end_date  \\\n",
       "382718                77  7/23/2015 15:27   \n",
       "573566                66  6/24/2015 20:18   \n",
       "\n",
       "                                     end_station_name  end_station_id  \\\n",
       "382718  Yerba Buena Center of the Arts (3rd @ Howard)              68   \n",
       "573566                                  2nd at Folsom              62   \n",
       "\n",
       "        bike_id subscription_type zip_code  \n",
       "382718      466          Customer    97213  \n",
       "573566      535          Customer    95531  "
      ]
     },
     "execution_count": 63,
     "metadata": {},
     "output_type": "execute_result"
    }
   ],
   "source": [
    "# выводим данные по двум самым длительным поездкам:\n",
    "df_max_duration = df.query('duration == 17270400 or duration == 2137000')\n",
    "df_max_duration.head()"
   ]
  },
  {
   "cell_type": "markdown",
   "id": "03b01689-1a5e-4310-8117-4d4bf9fe8f2a",
   "metadata": {},
   "source": [
    "Вывод: результаты совпали. время обработки в первом случае меньше. Наибольший пробег имеет велосипед с номером id = 535"
   ]
  },
  {
   "cell_type": "markdown",
   "id": "cadf07ce-9ad1-4c6a-9ce6-778196adb626",
   "metadata": {},
   "source": [
    "#### 2. Найти наибольшее геодезическое расстояние между станциями"
   ]
  },
  {
   "cell_type": "markdown",
   "id": "7eacb79c-5f1f-4e16-863f-9ed52d639803",
   "metadata": {},
   "source": [
    "Евклидова метрика не подходит (предназначена для вычисления расстояния на плоскости).\n",
    "\n",
    "Для поверхности Земли (сфера) используем версинус и гаверсинус:\n",
    "\n",
    "versin(φ) = 2 * (sin(φ/2))^2\n",
    "\n",
    "hav(φ) = versin(φ) / 2 = (sin(φ/2))^2\n",
    "\n",
    "Для любых двух точек на сфере гаверсинус центрального угла между ними вычисляется по формуле:\n",
    "\n",
    "hav(d/r) = hav(φ2 - φ1) + cos(φ1)*cos(φ2)*hav(λ2 - λ1)\n",
    "- d - это центральный угол между двумя точками, лежащими на большом круге\n",
    "- r - радиус сферы\n",
    "- φ1, φ2 - широта первой и второй точек в радианах\n",
    "- λ1, λ2 - долгота первой и второй точек в радианах\n",
    "\n",
    "Тогда \n",
    "\n",
    "d = 2r*arcsin(sqrt(hav(φ2 - φ1) + cos(φ1)*cos(φ2)*hav(λ2 - λ1)))\n",
    "\n",
    "где\n",
    "\n",
    "hav(φ2 - φ1) = (sin((φ2 - φ1)/2))^2\n",
    "\n",
    "hav(λ2 - λ1) = (sin((λ2 - λ1)/2))^2\n",
    "\n",
    "\n",
    "Средний радиус Земли R = 6371210 м или 6371 км\n",
    "\n",
    "Экваториальный радиус Земли RЭ = 6378,245 м.\n",
    "\n",
    "Полярный радиус Земли RП = 6356,830 м.\n",
    "\n",
    "Длина дуги меридиана (дуги экватора, дуги окружности большого круга) в 1°, 1′ и 1″ равна соответственно: 111 197 м (111,2 км), 1852 м (1,852 км) и 30,9 м.\n"
   ]
  },
  {
   "cell_type": "code",
   "execution_count": 78,
   "id": "1c2d25e6-91e6-45cc-a4d4-b64569edc845",
   "metadata": {},
   "outputs": [],
   "source": [
    "from math import pi, radians, cos, sin, asin, sqrt, atan, degrees\n",
    "from enum import Enum\n",
    "\n",
    "# средний радиус земли\n",
    "Rad_mean = 6371210"
   ]
  },
  {
   "cell_type": "code",
   "execution_count": 85,
   "id": "47305801-f2ce-4d18-8a3f-175d468817e1",
   "metadata": {},
   "outputs": [],
   "source": [
    "# кортежи: 1 - названия двух станций, 2 и 3 - данные по этим станциям\n",
    "distance = stationsInternal.cartesian(stationsInternal)\\\n",
    "                         .filter(lambda x: x[0].station_id != x[1].station_id)\\\n",
    "                         .keyBy(lambda x: (x[0].name, x[1].name))"
   ]
  },
  {
   "cell_type": "code",
   "execution_count": 86,
   "id": "d9d2f38b-00f1-4897-9ad3-9c1a0d0a65e9",
   "metadata": {},
   "outputs": [
    {
     "data": {
      "text/plain": [
       "[(('San Jose Diridon Caltrain Station', 'San Jose Civic Center'),\n",
       "  (Station(station_id=2, name='San Jose Diridon Caltrain Station', lat=37.329732, long=-121.90178200000001, dockcount=27, landmark='San Jose', installation=datetime.datetime(2013, 8, 6, 0, 0)),\n",
       "   Station(station_id=3, name='San Jose Civic Center', lat=37.330698, long=-121.888979, dockcount=15, landmark='San Jose', installation=datetime.datetime(2013, 8, 5, 0, 0)))),\n",
       " (('San Jose Diridon Caltrain Station', 'Santa Clara at Almaden'),\n",
       "  (Station(station_id=2, name='San Jose Diridon Caltrain Station', lat=37.329732, long=-121.90178200000001, dockcount=27, landmark='San Jose', installation=datetime.datetime(2013, 8, 6, 0, 0)),\n",
       "   Station(station_id=4, name='Santa Clara at Almaden', lat=37.333988, long=-121.894902, dockcount=11, landmark='San Jose', installation=datetime.datetime(2013, 8, 6, 0, 0))))]"
      ]
     },
     "execution_count": 86,
     "metadata": {},
     "output_type": "execute_result"
    }
   ],
   "source": [
    "distance.take(2)"
   ]
  },
  {
   "cell_type": "code",
   "execution_count": 87,
   "id": "c72d7784-aa32-4145-b017-1aa4b3be62ce",
   "metadata": {},
   "outputs": [],
   "source": [
    "def geodetic_distance(lat1, long1, lat2, long2):\n",
    "        \n",
    "    # переводим в радианы\n",
    "    lat_1 = radians(lat1)\n",
    "    long_1 = radians(long1)\n",
    "    lat_2 = radians(lat2)\n",
    "    long_2 = radians(long2)\n",
    "    \n",
    "    # разность между широтами и долготами\n",
    "    lat_1_2 = lat_2 - lat_1\n",
    "    long_1_2 = long_2 - long_1\n",
    "    \n",
    "    # гаверсинусы\n",
    "    hav_lat = (sin(lat_1_2/2))**2\n",
    "    hav_long = (sin(long_1_2/2))**2\n",
    "    \n",
    "    # тогда расстояние по формуле\n",
    "    d = 2*Rad_mean*asin(sqrt(hav_lat + cos(lat_1)*cos(lat_2)*hav_long))\n",
    "    \n",
    "    return d"
   ]
  },
  {
   "cell_type": "code",
   "execution_count": 88,
   "id": "d376eaa6-b410-483e-8db7-42f03dc6c437",
   "metadata": {},
   "outputs": [],
   "source": [
    "# к данным о каждой паре станций дописываем расстояние между ними\n",
    "distance_pair = distance.mapValues(lambda x: [x[0], x[1], geodetic_distance(x[0].lat, x[0].long, x[1].lat, x[1].long)])                                        "
   ]
  },
  {
   "cell_type": "code",
   "execution_count": 89,
   "id": "f140bb52-4892-486f-9090-4647b0bd0242",
   "metadata": {},
   "outputs": [
    {
     "data": {
      "text/plain": [
       "[(('San Jose Diridon Caltrain Station', 'San Jose Civic Center'),\n",
       "  [Station(station_id=2, name='San Jose Diridon Caltrain Station', lat=37.329732, long=-121.90178200000001, dockcount=27, landmark='San Jose', installation=datetime.datetime(2013, 8, 6, 0, 0)),\n",
       "   Station(station_id=3, name='San Jose Civic Center', lat=37.330698, long=-121.888979, dockcount=15, landmark='San Jose', installation=datetime.datetime(2013, 8, 5, 0, 0)),\n",
       "   1137.125987953115]),\n",
       " (('San Jose Diridon Caltrain Station', 'Santa Clara at Almaden'),\n",
       "  [Station(station_id=2, name='San Jose Diridon Caltrain Station', lat=37.329732, long=-121.90178200000001, dockcount=27, landmark='San Jose', installation=datetime.datetime(2013, 8, 6, 0, 0)),\n",
       "   Station(station_id=4, name='Santa Clara at Almaden', lat=37.333988, long=-121.894902, dockcount=11, landmark='San Jose', installation=datetime.datetime(2013, 8, 6, 0, 0)),\n",
       "   770.7299940340974]),\n",
       " (('San Jose Diridon Caltrain Station', 'Adobe on Almaden'),\n",
       "  [Station(station_id=2, name='San Jose Diridon Caltrain Station', lat=37.329732, long=-121.90178200000001, dockcount=27, landmark='San Jose', installation=datetime.datetime(2013, 8, 6, 0, 0)),\n",
       "   Station(station_id=5, name='Adobe on Almaden', lat=37.331415, long=-121.8932, dockcount=19, landmark='San Jose', installation=datetime.datetime(2013, 8, 5, 0, 0)),\n",
       "   781.5541113655147])]"
      ]
     },
     "execution_count": 89,
     "metadata": {},
     "output_type": "execute_result"
    }
   ],
   "source": [
    "distance_pair.take(3)"
   ]
  },
  {
   "cell_type": "code",
   "execution_count": 90,
   "id": "268cf61e-938e-4b7d-a71d-038e27cdaa2e",
   "metadata": {},
   "outputs": [
    {
     "name": "stdout",
     "output_type": "stream",
     "text": [
      "CPU times: user 10.9 ms, sys: 5.25 ms, total: 16.2 ms\n",
      "Wall time: 835 ms\n"
     ]
    }
   ],
   "source": [
    "%%time\n",
    "\n",
    "# находим максимальный элемент среди всех расстояний , замеряем время обработки\n",
    "max_distance = distance_pair.reduce(lambda d1, d2: d1 if d1[1] > d2[1] else d2)\n"
   ]
  },
  {
   "cell_type": "code",
   "execution_count": 102,
   "id": "d8841a25-0242-4998-bd0d-a5caf116e6fa",
   "metadata": {},
   "outputs": [
    {
     "name": "stdout",
     "output_type": "stream",
     "text": [
      "Maximum geodetic distance between stations:  ('Ryland Park', 'Mezes Park')\n",
      "distance =  34319.03961961622\n"
     ]
    }
   ],
   "source": [
    "print('Maximum geodetic distance between stations: ', max_distance[0])\n",
    "print('distance = ', max_distance[1][2])"
   ]
  },
  {
   "cell_type": "markdown",
   "id": "f6059c7a-369b-41b2-95b4-41015d3493d8",
   "metadata": {},
   "source": [
    "#### 3. Найти путь велосипеда с максимальным временем пробега через станции."
   ]
  },
  {
   "cell_type": "code",
   "execution_count": 112,
   "id": "76ecdc84-fa44-436f-8fff-5e4aa9ff0e13",
   "metadata": {},
   "outputs": [
    {
     "data": {
      "text/plain": [
       "[(0, 'id'),\n",
       " (1, 'duration'),\n",
       " (2, 'start_date'),\n",
       " (3, 'start_station_name'),\n",
       " (4, 'start_station_id'),\n",
       " (5, 'end_date'),\n",
       " (6, 'end_station_name'),\n",
       " (7, 'end_station_id'),\n",
       " (8, 'bike_id'),\n",
       " (9, 'subscription_type'),\n",
       " (10, 'zip_code')]"
      ]
     },
     "execution_count": 112,
     "metadata": {},
     "output_type": "execute_result"
    }
   ],
   "source": [
    "trip_list"
   ]
  },
  {
   "cell_type": "code",
   "execution_count": 105,
   "id": "48327581-cab1-4bba-907c-f6b15b8c1453",
   "metadata": {},
   "outputs": [
    {
     "name": "stdout",
     "output_type": "stream",
     "text": [
      "Maximum duration has bike with id =  535\n"
     ]
    }
   ],
   "source": [
    "# мы уже знаем bike_id \n",
    "print('Maximum duration has bike with id = ', max_duration[0])"
   ]
  },
  {
   "cell_type": "code",
   "execution_count": 118,
   "id": "de5cec72-b769-4b88-bf6e-2948ddc5debe",
   "metadata": {},
   "outputs": [
    {
     "data": {
      "text/plain": [
       "[Trip(trip_id=5067, duration=423, start_date=datetime.datetime(2013, 8, 29, 21, 38), start_station_name='San Francisco Caltrain (Townsend at 4th)', start_station_id=70, end_date=datetime.datetime(2013, 8, 29, 21, 45), end_station_name='San Francisco Caltrain 2 (330 Townsend)', end_station_id='69', bike_id=535, subscription_type='Subscriber', zip_code='94133'),\n",
       " Trip(trip_id=4966, duration=1245, start_date=datetime.datetime(2013, 8, 29, 19, 32), start_station_name='Post at Kearney', start_station_id=47, end_date=datetime.datetime(2013, 8, 29, 19, 53), end_station_name='San Francisco Caltrain (Townsend at 4th)', end_station_id='70', bike_id=535, subscription_type='Customer', zip_code='94123'),\n",
       " Trip(trip_id=5199, duration=498, start_date=datetime.datetime(2013, 8, 30, 9, 10), start_station_name='Market at Sansome', start_station_id=77, end_date=datetime.datetime(2013, 8, 30, 9, 19), end_station_name='2nd at South Park', end_station_id='64', bike_id=535, subscription_type='Customer', zip_code='94105')]"
      ]
     },
     "execution_count": 118,
     "metadata": {},
     "output_type": "execute_result"
    }
   ],
   "source": [
    "# все данные по этому bike_id\n",
    "bike_data = tripsInternal.filter(lambda x: x.bike_id == max_duration[0])\n",
    "bike_data.take(3)"
   ]
  },
  {
   "cell_type": "code",
   "execution_count": 119,
   "id": "00485377-86e4-47b5-9373-81240dcb9e32",
   "metadata": {},
   "outputs": [
    {
     "data": {
      "text/plain": [
       "[Trip(trip_id=4966, duration=1245, start_date=datetime.datetime(2013, 8, 29, 19, 32), start_station_name='Post at Kearney', start_station_id=47, end_date=datetime.datetime(2013, 8, 29, 19, 53), end_station_name='San Francisco Caltrain (Townsend at 4th)', end_station_id='70', bike_id=535, subscription_type='Customer', zip_code='94123'),\n",
       " Trip(trip_id=5067, duration=423, start_date=datetime.datetime(2013, 8, 29, 21, 38), start_station_name='San Francisco Caltrain (Townsend at 4th)', start_station_id=70, end_date=datetime.datetime(2013, 8, 29, 21, 45), end_station_name='San Francisco Caltrain 2 (330 Townsend)', end_station_id='69', bike_id=535, subscription_type='Subscriber', zip_code='94133'),\n",
       " Trip(trip_id=5179, duration=842, start_date=datetime.datetime(2013, 8, 30, 8, 40), start_station_name='San Francisco Caltrain 2 (330 Townsend)', start_station_id=69, end_date=datetime.datetime(2013, 8, 30, 8, 54), end_station_name='Market at Sansome', end_station_id='77', bike_id=535, subscription_type='Customer', zip_code='94158')]"
      ]
     },
     "execution_count": 119,
     "metadata": {},
     "output_type": "execute_result"
    }
   ],
   "source": [
    "# сортировка\n",
    "bike_data_sort = bike_data.sortBy(lambda x: x.start_date)\n",
    "bike_data_sort.take(3)"
   ]
  },
  {
   "cell_type": "code",
   "execution_count": 134,
   "id": "2ad203f5-4414-4c5d-ab85-2bb61c5c24c3",
   "metadata": {},
   "outputs": [
    {
     "data": {
      "text/plain": [
       "[('Post at Kearney', 'San Francisco Caltrain (Townsend at 4th)'),\n",
       " ('San Francisco Caltrain (Townsend at 4th)',\n",
       "  'San Francisco Caltrain 2 (330 Townsend)'),\n",
       " ('San Francisco Caltrain 2 (330 Townsend)', 'Market at Sansome'),\n",
       " ('Market at Sansome', '2nd at South Park'),\n",
       " ('2nd at Townsend', 'Davis at Jackson'),\n",
       " ('San Francisco City Hall', 'Civic Center BART (7th at Market)'),\n",
       " ('Civic Center BART (7th at Market)', 'Post at Kearney'),\n",
       " ('Post at Kearney', 'Embarcadero at Sansome'),\n",
       " ('Embarcadero at Sansome', 'Washington at Kearney'),\n",
       " ('Washington at Kearney', 'Market at Sansome')]"
      ]
     },
     "execution_count": 134,
     "metadata": {},
     "output_type": "execute_result"
    }
   ],
   "source": [
    "# путь (промежутки)\n",
    "bike_way = bike_data_sort.map(lambda x: (x.start_station_name, x.end_station_name))\n",
    "#bike_way1.saveAsTextFile('bike_way.txt')\n",
    "bike_way.take(10)"
   ]
  },
  {
   "cell_type": "code",
   "execution_count": 135,
   "id": "18ada449-a6ef-45bf-95b5-74278f0b571f",
   "metadata": {},
   "outputs": [
    {
     "data": {
      "text/plain": [
       "['Post at Kearney',\n",
       " 'San Francisco Caltrain (Townsend at 4th)',\n",
       " 'San Francisco Caltrain 2 (330 Townsend)',\n",
       " 'Market at Sansome',\n",
       " '2nd at Townsend',\n",
       " 'San Francisco City Hall',\n",
       " 'Civic Center BART (7th at Market)',\n",
       " 'Post at Kearney',\n",
       " 'Embarcadero at Sansome',\n",
       " 'Washington at Kearney']"
      ]
     },
     "execution_count": 135,
     "metadata": {},
     "output_type": "execute_result"
    }
   ],
   "source": [
    "# станции поочередности\n",
    "bike_way1 = bike_way.map(lambda x: x[0])\n",
    "#bike_way1.saveAsTextFile('bike_way1.txt')\n",
    "bike_way1.take(10)"
   ]
  },
  {
   "cell_type": "markdown",
   "id": "4591f2cf-ab58-4069-a9b8-8a2dddd403e1",
   "metadata": {},
   "source": [
    "#### Задание 4. Найти количество велосипедов в системе."
   ]
  },
  {
   "cell_type": "code",
   "execution_count": 136,
   "id": "6ea4b699-6829-4aa5-9717-032af567b194",
   "metadata": {},
   "outputs": [
    {
     "data": {
      "text/plain": [
       "[(0, 'id'),\n",
       " (1, 'duration'),\n",
       " (2, 'start_date'),\n",
       " (3, 'start_station_name'),\n",
       " (4, 'start_station_id'),\n",
       " (5, 'end_date'),\n",
       " (6, 'end_station_name'),\n",
       " (7, 'end_station_id'),\n",
       " (8, 'bike_id'),\n",
       " (9, 'subscription_type'),\n",
       " (10, 'zip_code')]"
      ]
     },
     "execution_count": 136,
     "metadata": {},
     "output_type": "execute_result"
    }
   ],
   "source": [
    "trip_list"
   ]
  },
  {
   "cell_type": "code",
   "execution_count": 137,
   "id": "d87022d6-7ceb-4237-880f-c44aadb1fb98",
   "metadata": {},
   "outputs": [
    {
     "data": {
      "text/plain": [
       "[(0, 'id'),\n",
       " (1, 'name'),\n",
       " (2, 'lat'),\n",
       " (3, 'long'),\n",
       " (4, 'dock_count'),\n",
       " (5, 'city'),\n",
       " (6, 'installation_date')]"
      ]
     },
     "execution_count": 137,
     "metadata": {},
     "output_type": "execute_result"
    }
   ],
   "source": [
    "station_list"
   ]
  },
  {
   "cell_type": "markdown",
   "id": "8db384ed-907a-480a-abfb-4765f3a4d121",
   "metadata": {},
   "source": [
    "Поле \"bike_id\" встречается только в trips.\n",
    "Находим количество неповторяющихся \"bike_id\""
   ]
  },
  {
   "cell_type": "code",
   "execution_count": 152,
   "id": "ab9f9574-2d71-4433-93b0-a99f3c54d836",
   "metadata": {},
   "outputs": [
    {
     "data": {
      "text/plain": [
       "[520, 661, 48, 26, 319, 527, 679, 687, 553, 107]"
      ]
     },
     "execution_count": 152,
     "metadata": {},
     "output_type": "execute_result"
    }
   ],
   "source": [
    "# Сортируем по id велосипеда\n",
    "bikes_num = tripsInternal.map(lambda x: x.bike_id)\n",
    "bikes_num.take(10)"
   ]
  },
  {
   "cell_type": "code",
   "execution_count": 154,
   "id": "dc5e81bd-b3b5-4d9b-91aa-bb15d26bb949",
   "metadata": {},
   "outputs": [
    {
     "name": "stdout",
     "output_type": "stream",
     "text": [
      "Kоличество велосипедов в системе =  700\n"
     ]
    }
   ],
   "source": [
    "# отобрали уникальные\n",
    "bike_count = bikes_num.distinct().collect()\n",
    "print('Kоличество велосипедов в системе = ', len(bike_count))"
   ]
  },
  {
   "cell_type": "markdown",
   "id": "7fa64fe8-75ed-44e8-99d6-e6314f2f8491",
   "metadata": {},
   "source": [
    "#### 5. Найти пользователей потративших на поездки более 3 часов."
   ]
  },
  {
   "cell_type": "code",
   "execution_count": 166,
   "id": "ddfe8489-99e2-4398-be8d-5408911c11e5",
   "metadata": {},
   "outputs": [
    {
     "name": "stdout",
     "output_type": "stream",
     "text": [
      "CPU times: user 7.64 ms, sys: 10.3 ms, total: 18 ms\n",
      "Wall time: 14.1 s\n"
     ]
    }
   ],
   "source": [
    "%%time\n",
    "\n",
    "# фильтруем по условию, считаем количество, замеряем время обработки\n",
    "long_trip_duration = tripsInternal.filter(lambda x: x.duration > 3*60*60).map(lambda y: y.zip_code)\n",
    "trip_count = long_trip_duration.count()"
   ]
  },
  {
   "cell_type": "code",
   "execution_count": 167,
   "id": "2a789ded-1f41-480f-b4eb-f78711e42d24",
   "metadata": {},
   "outputs": [
    {
     "name": "stdout",
     "output_type": "stream",
     "text": [
      "Kоличество пользователей потративших на поездки более 3 часов =  8322\n"
     ]
    }
   ],
   "source": [
    "print('Kоличество пользователей потративших на поездки более 3 часов = ', trip_count)"
   ]
  }
 ],
 "metadata": {
  "kernelspec": {
   "display_name": "Python 3",
   "language": "python",
   "name": "python3"
  },
  "language_info": {
   "codemirror_mode": {
    "name": "ipython",
    "version": 3
   },
   "file_extension": ".py",
   "mimetype": "text/x-python",
   "name": "python",
   "nbconvert_exporter": "python",
   "pygments_lexer": "ipython3",
   "version": "3.9.5"
  }
 },
 "nbformat": 4,
 "nbformat_minor": 5
}
